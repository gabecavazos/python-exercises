{
 "cells": [
  {
   "cell_type": "code",
   "execution_count": 138,
   "id": "1175f251",
   "metadata": {},
   "outputs": [],
   "source": [
    "#1 \n",
    "def is_two(i):\n",
    "    if i == '2' or i == 2:\n",
    "        return True\n",
    "    else:\n",
    "        return False"
   ]
  },
  {
   "cell_type": "code",
   "execution_count": 139,
   "id": "e3c9b5db",
   "metadata": {},
   "outputs": [
    {
     "data": {
      "text/plain": [
       "False"
      ]
     },
     "execution_count": 139,
     "metadata": {},
     "output_type": "execute_result"
    }
   ],
   "source": [
    "is_two(5)"
   ]
  },
  {
   "cell_type": "code",
   "execution_count": 165,
   "id": "5b9fc526",
   "metadata": {},
   "outputs": [],
   "source": [
    "#2\n",
    "def is_vowel(string):\n",
    "    vowels = ['a','e','i','o','u','A','E','I','O','U']\n",
    "    if string in vowels:\n",
    "        return True\n",
    "    else:\n",
    "        return False"
   ]
  },
  {
   "cell_type": "code",
   "execution_count": null,
   "id": "7467d8e3",
   "metadata": {},
   "outputs": [],
   "source": [
    "## madeline solution"
   ]
  },
  {
   "cell_type": "code",
   "execution_count": 15,
   "id": "a2227a2f",
   "metadata": {},
   "outputs": [
    {
     "data": {
      "text/plain": [
       "True"
      ]
     },
     "execution_count": 15,
     "metadata": {},
     "output_type": "execute_result"
    }
   ],
   "source": [
    "is_vowel('e')"
   ]
  },
  {
   "cell_type": "code",
   "execution_count": 17,
   "id": "a11f1b3a",
   "metadata": {},
   "outputs": [],
   "source": [
    "#3\n",
    "def is_consonant(string):\n",
    "    vowels=['a','e','i','o','u','A','E','I','O','U']\n",
    "    if string in vowels:\n",
    "        return False\n",
    "    else:\n",
    "        return True"
   ]
  },
  {
   "cell_type": "code",
   "execution_count": 18,
   "id": "a4314098",
   "metadata": {},
   "outputs": [
    {
     "data": {
      "text/plain": [
       "True"
      ]
     },
     "execution_count": 18,
     "metadata": {},
     "output_type": "execute_result"
    }
   ],
   "source": [
    "is_consonant('c')"
   ]
  },
  {
   "cell_type": "code",
   "execution_count": 160,
   "id": "90abd316",
   "metadata": {},
   "outputs": [],
   "source": [
    "#4\n",
    "\n",
    "def cap_if_consonant(string):\n",
    "    vowels=['a','e','i','o','u','A','E','I','O','U']\n",
    "    if string[0] in vowels:\n",
    "        return print('doesn\\'t start with a consonant')\n",
    "    else:\n",
    "        #work out this line later prolly us format\n",
    "        return f'{string[0].upper()}{string[1:len(string)]}'"
   ]
  },
  {
   "cell_type": "code",
   "execution_count": 85,
   "id": "e3995583",
   "metadata": {},
   "outputs": [
    {
     "data": {
      "text/plain": [
       "'Word'"
      ]
     },
     "execution_count": 85,
     "metadata": {},
     "output_type": "execute_result"
    }
   ],
   "source": [
    "cap_if_consonant('word')"
   ]
  },
  {
   "cell_type": "code",
   "execution_count": 14,
   "id": "c74469d1",
   "metadata": {},
   "outputs": [],
   "source": [
    "#5\n",
    "calculate_tip = lambda tip_percentage,bill_total:(tip_percentage * bill_total) + bill_total\n",
    "    "
   ]
  },
  {
   "cell_type": "code",
   "execution_count": 15,
   "id": "630029c7",
   "metadata": {},
   "outputs": [
    {
     "data": {
      "text/plain": [
       "12.0"
      ]
     },
     "execution_count": 15,
     "metadata": {},
     "output_type": "execute_result"
    }
   ],
   "source": [
    "calculate_tip(.2,10)"
   ]
  },
  {
   "cell_type": "code",
   "execution_count": 16,
   "id": "b2dfc67c",
   "metadata": {},
   "outputs": [],
   "source": [
    "#6\n",
    "apply_discount = lambda original_price, discount_percentage: original_price - original_price * discount_percentage"
   ]
  },
  {
   "cell_type": "code",
   "execution_count": 17,
   "id": "a4c50910",
   "metadata": {},
   "outputs": [
    {
     "data": {
      "text/plain": [
       "8.0"
      ]
     },
     "execution_count": 17,
     "metadata": {},
     "output_type": "execute_result"
    }
   ],
   "source": [
    "apply_discount(10,.2)"
   ]
  },
  {
   "cell_type": "code",
   "execution_count": 32,
   "id": "1f9dc7a4",
   "metadata": {},
   "outputs": [],
   "source": [
    "#7\n",
    "def handle_commas(string_int):\n",
    "    return int(string_int.replace(',','')) #replace comma con nada"
   ]
  },
  {
   "cell_type": "code",
   "execution_count": 33,
   "id": "c3249a36",
   "metadata": {},
   "outputs": [
    {
     "data": {
      "text/plain": [
       "1000"
      ]
     },
     "execution_count": 33,
     "metadata": {},
     "output_type": "execute_result"
    }
   ],
   "source": [
    "handle_commas('1,000')"
   ]
  },
  {
   "cell_type": "code",
   "execution_count": 37,
   "id": "0240fe32",
   "metadata": {},
   "outputs": [],
   "source": [
    "#8\n",
    "def get_letter_grade(i):\n",
    "    if i >= 90:\n",
    "        return 'A'\n",
    "    elif i >= 80 and i < 90:\n",
    "        return 'B'\n",
    "    elif i >= 70 and i < 80:\n",
    "        return 'C'\n",
    "    elif i < 70:\n",
    "        return 'F'"
   ]
  },
  {
   "cell_type": "code",
   "execution_count": 38,
   "id": "b29cee1c",
   "metadata": {},
   "outputs": [
    {
     "data": {
      "text/plain": [
       "'F'"
      ]
     },
     "execution_count": 38,
     "metadata": {},
     "output_type": "execute_result"
    }
   ],
   "source": [
    "get_letter_grade(60)"
   ]
  },
  {
   "cell_type": "code",
   "execution_count": 157,
   "id": "aaf5c50b",
   "metadata": {},
   "outputs": [],
   "source": [
    "def is_vowel(var):\n",
    "  vowels=['a','e','i','o','u','A','E','I','O','U']\n",
    "  if var in vowels:\n",
    "    return True\n",
    "  else:\n",
    "    return False"
   ]
  },
  {
   "cell_type": "code",
   "execution_count": 166,
   "id": "eda16413",
   "metadata": {},
   "outputs": [],
   "source": [
    "#9\n",
    "def remove_vowels(i):\n",
    "    letters = list(i)\n",
    "    for letter in letters:\n",
    "        if is_vowel(letter):\n",
    "            letters.remove(letter)\n",
    "    return ''.join(letters)"
   ]
  },
  {
   "cell_type": "code",
   "execution_count": 163,
   "id": "0d04b6fe",
   "metadata": {},
   "outputs": [
    {
     "data": {
      "text/plain": [
       "'bnnAAA'"
      ]
     },
     "execution_count": 163,
     "metadata": {},
     "output_type": "execute_result"
    }
   ],
   "source": [
    "remove_vowels('bananaAAAAA')"
   ]
  },
  {
   "cell_type": "code",
   "execution_count": 164,
   "id": "2f63e74c",
   "metadata": {},
   "outputs": [],
   "source": [
    "#initialize no_vowels as an empty string\n",
    "def remove_vowels(some_stuff):\n",
    "    no_vowels = ''\n",
    "#for every n in some_stuff\n",
    "    for n in some_stuff:\n",
    "        if is_vowel(n):\n",
    "        #if it is, we don't want it\n",
    "            continue\n",
    "        else:\n",
    "        #keep it!\n",
    "            no_vowels += n\n",
    "        return no_vowels"
   ]
  },
  {
   "cell_type": "code",
   "execution_count": 152,
   "id": "70658f3b",
   "metadata": {},
   "outputs": [],
   "source": [
    "#10\n",
    "def is_special_char(i):\n",
    "  special_char = ['!=','%','\\'','==','>=','<=','']\n",
    "  if i in special_char:\n",
    "    return True\n",
    "  else:\n",
    "    return False"
   ]
  },
  {
   "cell_type": "code",
   "execution_count": 118,
   "id": "6b935fe9",
   "metadata": {},
   "outputs": [
    {
     "data": {
      "text/plain": [
       "True"
      ]
     },
     "execution_count": 118,
     "metadata": {},
     "output_type": "execute_result"
    }
   ],
   "source": [
    "is_special_char('')"
   ]
  },
  {
   "cell_type": "code",
   "execution_count": 155,
   "id": "9f4961d5",
   "metadata": {},
   "outputs": [],
   "source": [
    "#10\n",
    "\n",
    "def normalize_name(s):\n",
    "    s = s.lower()\n",
    "    s = s.replace(' ','_')\n",
    "    s = s.split()\n",
    "    chars = list(s)\n",
    "    for char in chars:\n",
    "        if is_special_char(char):\n",
    "            chars = chars.remove(char)\n",
    "        return ''.join(char)"
   ]
  },
  {
   "cell_type": "code",
   "execution_count": 124,
   "id": "db566fdc",
   "metadata": {},
   "outputs": [
    {
     "data": {
      "text/plain": [
       "'_%_completed_'"
      ]
     },
     "execution_count": 124,
     "metadata": {},
     "output_type": "execute_result"
    }
   ],
   "source": [
    "normalize_name(' % Completed ')"
   ]
  },
  {
   "cell_type": "code",
   "execution_count": 128,
   "id": "cec2c8b9",
   "metadata": {},
   "outputs": [],
   "source": [
    "#11\n",
    "def cumulative_sum(list):\n",
    "    res_list = []\n",
    "    for i in list:\n",
    "        res_list.append(list[i]+list[i+1])\n",
    "        return res_list\n",
    "    "
   ]
  },
  {
   "cell_type": "code",
   "execution_count": 129,
   "id": "7d0f6409",
   "metadata": {},
   "outputs": [
    {
     "data": {
      "text/plain": [
       "[5]"
      ]
     },
     "execution_count": 129,
     "metadata": {},
     "output_type": "execute_result"
    }
   ],
   "source": [
    "cumulative_sum([1,2,3])"
   ]
  },
  {
   "cell_type": "code",
   "execution_count": null,
   "id": "688fc3df",
   "metadata": {},
   "outputs": [],
   "source": []
  }
 ],
 "metadata": {
  "kernelspec": {
   "display_name": "Python 3 (ipykernel)",
   "language": "python",
   "name": "python3"
  },
  "language_info": {
   "codemirror_mode": {
    "name": "ipython",
    "version": 3
   },
   "file_extension": ".py",
   "mimetype": "text/x-python",
   "name": "python",
   "nbconvert_exporter": "python",
   "pygments_lexer": "ipython3",
   "version": "3.9.13"
  }
 },
 "nbformat": 4,
 "nbformat_minor": 5
}
