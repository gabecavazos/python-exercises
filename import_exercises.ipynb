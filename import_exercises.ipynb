{
 "cells": [
  {
   "cell_type": "code",
   "execution_count": 65,
   "id": "1cc8cb2e",
   "metadata": {},
   "outputs": [],
   "source": [
    "import math"
   ]
  },
  {
   "cell_type": "code",
   "execution_count": 2,
   "id": "bae1141b",
   "metadata": {},
   "outputs": [
    {
     "ename": "NameError",
     "evalue": "name 'pi' is not defined",
     "output_type": "error",
     "traceback": [
      "\u001b[0;31m---------------------------------------------------------------------------\u001b[0m",
      "\u001b[0;31mNameError\u001b[0m                                 Traceback (most recent call last)",
      "\u001b[0;32m/var/folders/73/8c9znrxs6gv1sc4y9jvw8pvh0000gn/T/ipykernel_55402/3440806613.py\u001b[0m in \u001b[0;36m<module>\u001b[0;34m\u001b[0m\n\u001b[0;32m----> 1\u001b[0;31m \u001b[0mpi\u001b[0m\u001b[0;34m\u001b[0m\u001b[0;34m\u001b[0m\u001b[0m\n\u001b[0m",
      "\u001b[0;31mNameError\u001b[0m: name 'pi' is not defined"
     ]
    }
   ],
   "source": [
    "pi"
   ]
  },
  {
   "cell_type": "code",
   "execution_count": 3,
   "id": "8f350ba8",
   "metadata": {},
   "outputs": [
    {
     "data": {
      "text/plain": [
       "3.141592653589793"
      ]
     },
     "execution_count": 3,
     "metadata": {},
     "output_type": "execute_result"
    }
   ],
   "source": [
    "math.pi"
   ]
  },
  {
   "cell_type": "code",
   "execution_count": 4,
   "id": "974f2ea7",
   "metadata": {},
   "outputs": [],
   "source": [
    "from math import pi"
   ]
  },
  {
   "cell_type": "code",
   "execution_count": 5,
   "id": "b6394d82",
   "metadata": {},
   "outputs": [
    {
     "data": {
      "text/plain": [
       "3.141592653589793"
      ]
     },
     "execution_count": 5,
     "metadata": {},
     "output_type": "execute_result"
    }
   ],
   "source": [
    "pi"
   ]
  },
  {
   "cell_type": "code",
   "execution_count": 6,
   "id": "02291210",
   "metadata": {},
   "outputs": [
    {
     "data": {
      "text/plain": [
       "3.141592653589793"
      ]
     },
     "execution_count": 6,
     "metadata": {},
     "output_type": "execute_result"
    }
   ],
   "source": [
    "math.pi"
   ]
  },
  {
   "cell_type": "code",
   "execution_count": 7,
   "id": "daa449ed",
   "metadata": {},
   "outputs": [
    {
     "data": {
      "text/plain": [
       "3.1622776601683795"
      ]
     },
     "execution_count": 7,
     "metadata": {},
     "output_type": "execute_result"
    }
   ],
   "source": [
    "math.sqrt(10)"
   ]
  },
  {
   "cell_type": "code",
   "execution_count": 8,
   "id": "eb63d32d",
   "metadata": {},
   "outputs": [],
   "source": [
    "from math import sqrt as st"
   ]
  },
  {
   "cell_type": "code",
   "execution_count": 9,
   "id": "ca15203e",
   "metadata": {},
   "outputs": [
    {
     "data": {
      "text/plain": [
       "10.0"
      ]
     },
     "execution_count": 9,
     "metadata": {},
     "output_type": "execute_result"
    }
   ],
   "source": [
    "st(100)"
   ]
  },
  {
   "cell_type": "code",
   "execution_count": 10,
   "id": "e38b9f4b",
   "metadata": {},
   "outputs": [
    {
     "data": {
      "text/plain": [
       "10.0"
      ]
     },
     "execution_count": 10,
     "metadata": {},
     "output_type": "execute_result"
    }
   ],
   "source": [
    "math.sqrt(100)"
   ]
  },
  {
   "cell_type": "markdown",
   "id": "2ffb0200",
   "metadata": {},
   "source": [
    "#### for 3rd party libraries needed to install"
   ]
  },
  {
   "cell_type": "markdown",
   "id": "f296c5fe",
   "metadata": {},
   "source": [
    "conda install somepackage \\\n",
    "pip install somepackage"
   ]
  },
  {
   "cell_type": "markdown",
   "id": "16f8b605",
   "metadata": {},
   "source": [
    "run this from command line"
   ]
  },
  {
   "cell_type": "markdown",
   "id": "dd154fef",
   "metadata": {},
   "source": [
    "#### Run Em"
   ]
  },
  {
   "cell_type": "markdown",
   "id": "c311237d",
   "metadata": {},
   "source": [
    "import and numpy"
   ]
  },
  {
   "cell_type": "code",
   "execution_count": 13,
   "id": "3ddf68dc",
   "metadata": {},
   "outputs": [],
   "source": [
    "# always use np as its the standard alias in ds comm\n",
    "import numpy as np"
   ]
  },
  {
   "cell_type": "code",
   "execution_count": 14,
   "id": "34b1bddf",
   "metadata": {},
   "outputs": [
    {
     "data": {
      "text/plain": [
       "array([0, 1, 2, 3, 4, 5, 6, 7, 8, 9])"
      ]
     },
     "execution_count": 14,
     "metadata": {},
     "output_type": "execute_result"
    }
   ],
   "source": [
    "np.arange(10)"
   ]
  },
  {
   "cell_type": "markdown",
   "id": "53b9ae19",
   "metadata": {},
   "source": [
    "import and us pandas"
   ]
  },
  {
   "cell_type": "code",
   "execution_count": 15,
   "id": "9bd52cb4",
   "metadata": {},
   "outputs": [],
   "source": [
    "import pandas as pd"
   ]
  },
  {
   "cell_type": "code",
   "execution_count": 16,
   "id": "38dcf8d2",
   "metadata": {},
   "outputs": [],
   "source": [
    "pd.DataFrame?"
   ]
  },
  {
   "cell_type": "code",
   "execution_count": 17,
   "id": "5f587600",
   "metadata": {},
   "outputs": [
    {
     "ename": "AttributeError",
     "evalue": "module 'pandas' has no attribute 'Dataframe'",
     "output_type": "error",
     "traceback": [
      "\u001b[0;31m---------------------------------------------------------------------------\u001b[0m",
      "\u001b[0;31mAttributeError\u001b[0m                            Traceback (most recent call last)",
      "\u001b[0;32m/var/folders/73/8c9znrxs6gv1sc4y9jvw8pvh0000gn/T/ipykernel_55402/1235017268.py\u001b[0m in \u001b[0;36m<module>\u001b[0;34m\u001b[0m\n\u001b[0;32m----> 1\u001b[0;31m \u001b[0mpd\u001b[0m\u001b[0;34m.\u001b[0m\u001b[0mDataframe\u001b[0m\u001b[0;34m(\u001b[0m\u001b[0;34m{\u001b[0m\u001b[0;34m'coll'\u001b[0m\u001b[0;34m:\u001b[0m\u001b[0;34m[\u001b[0m\u001b[0;36m1\u001b[0m\u001b[0;34m,\u001b[0m\u001b[0;36m2\u001b[0m\u001b[0;34m]\u001b[0m\u001b[0;34m,\u001b[0m \u001b[0;34m'col2'\u001b[0m\u001b[0;34m:\u001b[0m\u001b[0;34m[\u001b[0m\u001b[0;36m1\u001b[0m\u001b[0;34m,\u001b[0m\u001b[0;36m2\u001b[0m\u001b[0;34m]\u001b[0m\u001b[0;34m}\u001b[0m\u001b[0;34m)\u001b[0m\u001b[0;34m\u001b[0m\u001b[0;34m\u001b[0m\u001b[0m\n\u001b[0m",
      "\u001b[0;32m/usr/local/anaconda3/lib/python3.9/site-packages/pandas/__init__.py\u001b[0m in \u001b[0;36m__getattr__\u001b[0;34m(name)\u001b[0m\n\u001b[1;32m    259\u001b[0m         \u001b[0;32mreturn\u001b[0m \u001b[0m_SparseArray\u001b[0m\u001b[0;34m\u001b[0m\u001b[0;34m\u001b[0m\u001b[0m\n\u001b[1;32m    260\u001b[0m \u001b[0;34m\u001b[0m\u001b[0m\n\u001b[0;32m--> 261\u001b[0;31m     \u001b[0;32mraise\u001b[0m \u001b[0mAttributeError\u001b[0m\u001b[0;34m(\u001b[0m\u001b[0;34mf\"module 'pandas' has no attribute '{name}'\"\u001b[0m\u001b[0;34m)\u001b[0m\u001b[0;34m\u001b[0m\u001b[0;34m\u001b[0m\u001b[0m\n\u001b[0m\u001b[1;32m    262\u001b[0m \u001b[0;34m\u001b[0m\u001b[0m\n\u001b[1;32m    263\u001b[0m \u001b[0;34m\u001b[0m\u001b[0m\n",
      "\u001b[0;31mAttributeError\u001b[0m: module 'pandas' has no attribute 'Dataframe'"
     ]
    }
   ],
   "source": [
    "pd.Dataframe({'coll':[1,2], 'col2':[1,2]})"
   ]
  },
  {
   "cell_type": "markdown",
   "id": "6cd48873",
   "metadata": {},
   "source": [
    "how to import your own code\\\n",
    "1. write a .py script with variables and/or functions\n",
    "2. save functions to the same file as notebook\n",
    "3.  in your working import module name wo/ py"
   ]
  },
  {
   "cell_type": "markdown",
   "id": "f8ad6594",
   "metadata": {},
   "source": [
    "restart kernal to reimport changes from edited .py file"
   ]
  },
  {
   "cell_type": "code",
   "execution_count": 1,
   "id": "5bd61bad",
   "metadata": {},
   "outputs": [
    {
     "ename": "ImportError",
     "evalue": "cannot import name 'calculate_tp' from 'functions_exercises' (/Users/gabrielcavazos/codeup-data-science/python-exercises/functions_exercises.py)",
     "output_type": "error",
     "traceback": [
      "\u001b[0;31m---------------------------------------------------------------------------\u001b[0m",
      "\u001b[0;31mImportError\u001b[0m                               Traceback (most recent call last)",
      "\u001b[0;32m/var/folders/73/8c9znrxs6gv1sc4y9jvw8pvh0000gn/T/ipykernel_58090/3485924752.py\u001b[0m in \u001b[0;36m<module>\u001b[0;34m\u001b[0m\n\u001b[1;32m      1\u001b[0m \u001b[0;31m#1\u001b[0m\u001b[0;34m\u001b[0m\u001b[0;34m\u001b[0m\u001b[0m\n\u001b[0;32m----> 2\u001b[0;31m \u001b[0;32mfrom\u001b[0m \u001b[0mfunctions_exercises\u001b[0m \u001b[0;32mimport\u001b[0m \u001b[0mcalculate_tp\u001b[0m\u001b[0;34m\u001b[0m\u001b[0;34m\u001b[0m\u001b[0m\n\u001b[0m",
      "\u001b[0;31mImportError\u001b[0m: cannot import name 'calculate_tp' from 'functions_exercises' (/Users/gabrielcavazos/codeup-data-science/python-exercises/functions_exercises.py)"
     ]
    }
   ],
   "source": [
    "#1\n",
    "from functions_exercises import calculate_tp "
   ]
  },
  {
   "cell_type": "code",
   "execution_count": 2,
   "id": "ace54108",
   "metadata": {},
   "outputs": [],
   "source": [
    "from functions_exercises import calculate_tip"
   ]
  },
  {
   "cell_type": "code",
   "execution_count": 3,
   "id": "2b3cfc15",
   "metadata": {},
   "outputs": [
    {
     "data": {
      "text/plain": [
       "2.0"
      ]
     },
     "execution_count": 3,
     "metadata": {},
     "output_type": "execute_result"
    }
   ],
   "source": [
    "calculate_tip(10,.2)"
   ]
  },
  {
   "cell_type": "code",
   "execution_count": 1,
   "id": "50ebd570",
   "metadata": {},
   "outputs": [],
   "source": [
    "#1c\n",
    "from functions_exercises import get_letter_grade as glg"
   ]
  },
  {
   "cell_type": "code",
   "execution_count": 2,
   "id": "b33ca039",
   "metadata": {},
   "outputs": [
    {
     "data": {
      "text/plain": [
       "'A'"
      ]
     },
     "execution_count": 2,
     "metadata": {},
     "output_type": "execute_result"
    }
   ],
   "source": [
    "glg(92)"
   ]
  },
  {
   "cell_type": "code",
   "execution_count": 5,
   "id": "486c858e",
   "metadata": {},
   "outputs": [],
   "source": [
    "#2\n",
    "import itertools as iter"
   ]
  },
  {
   "cell_type": "code",
   "execution_count": 28,
   "id": "86b1f662",
   "metadata": {},
   "outputs": [
    {
     "data": {
      "text/plain": [
       "[(('a', '1'), ('b', '2'), ('c', '3')),\n",
       " (('a', '1'), ('c', '3'), ('b', '2')),\n",
       " (('b', '2'), ('a', '1'), ('c', '3')),\n",
       " (('b', '2'), ('c', '3'), ('a', '1')),\n",
       " (('c', '3'), ('a', '1'), ('b', '2')),\n",
       " (('c', '3'), ('b', '2'), ('a', '1'))]"
      ]
     },
     "execution_count": 28,
     "metadata": {},
     "output_type": "execute_result"
    }
   ],
   "source": [
    "#2a\n",
    "list(iter.permutations(iter.zip_longest('abc','123')))\n",
    "#18"
   ]
  },
  {
   "cell_type": "code",
   "execution_count": 24,
   "id": "73cde1fb",
   "metadata": {},
   "outputs": [
    {
     "data": {
      "text/plain": [
       "[('a', 'b'), ('a', 'c'), ('a', 'd'), ('b', 'c'), ('b', 'd'), ('c', 'd')]"
      ]
     },
     "execution_count": 24,
     "metadata": {},
     "output_type": "execute_result"
    }
   ],
   "source": [
    "#2b\n",
    "list(iter.combinations('abcd',2))\n",
    "#6"
   ]
  },
  {
   "cell_type": "code",
   "execution_count": 31,
   "id": "34833bb5",
   "metadata": {},
   "outputs": [
    {
     "data": {
      "text/plain": [
       "[('a', 'b'),\n",
       " ('a', 'c'),\n",
       " ('a', 'd'),\n",
       " ('b', 'a'),\n",
       " ('b', 'c'),\n",
       " ('b', 'd'),\n",
       " ('c', 'a'),\n",
       " ('c', 'b'),\n",
       " ('c', 'd'),\n",
       " ('d', 'a'),\n",
       " ('d', 'b'),\n",
       " ('d', 'c')]"
      ]
     },
     "execution_count": 31,
     "metadata": {},
     "output_type": "execute_result"
    }
   ],
   "source": [
    "#2c\n",
    "list(iter.permutations('abcd',2))\n",
    "#12"
   ]
  },
  {
   "cell_type": "code",
   "execution_count": 1,
   "id": "27cfb1c8",
   "metadata": {},
   "outputs": [],
   "source": [
    "#3\n",
    "import json"
   ]
  },
  {
   "cell_type": "code",
   "execution_count": 12,
   "id": "c85fc3de",
   "metadata": {},
   "outputs": [
    {
     "data": {
      "text/plain": [
       "list"
      ]
     },
     "execution_count": 12,
     "metadata": {},
     "output_type": "execute_result"
    }
   ],
   "source": [
    "profiles = json.load(open('profiles.json'))\n",
    "type(profiles)"
   ]
  },
  {
   "cell_type": "code",
   "execution_count": 17,
   "id": "e0af9f2a",
   "metadata": {},
   "outputs": [
    {
     "name": "stdout",
     "output_type": "stream",
     "text": [
      "19\n"
     ]
    }
   ],
   "source": [
    "#find total users\n",
    "total_users = len(profiles)\n",
    "print(total_users)"
   ]
  },
  {
   "cell_type": "code",
   "execution_count": 21,
   "id": "7909e037",
   "metadata": {},
   "outputs": [
    {
     "name": "stdout",
     "output_type": "stream",
     "text": [
      "9\n"
     ]
    }
   ],
   "source": [
    "#find total active users\n",
    "active_users = 0\n",
    "for profile in profiles:\n",
    "    isActive = profile[\"isActive\"]\n",
    "    if isActive == True:\n",
    "        active_users +=1\n",
    "print(active_users)"
   ]
  },
  {
   "cell_type": "code",
   "execution_count": 63,
   "id": "bbb6a4c3",
   "metadata": {},
   "outputs": [
    {
     "name": "stdout",
     "output_type": "stream",
     "text": [
      "10\n"
     ]
    }
   ],
   "source": [
    "#find inactive users\n",
    "inactive_users = 0\n",
    "for profile in profiles:\n",
    "    isActive = profile[\"isActive\"]\n",
    "    if isActive == False:\n",
    "        inactive_users +=1\n",
    "print(inactive_users)"
   ]
  },
  {
   "cell_type": "code",
   "execution_count": 60,
   "id": "a1229acc",
   "metadata": {},
   "outputs": [
    {
     "name": "stdout",
     "output_type": "stream",
     "text": [
      "[2097, 3654, 1536, 3920, 3681, 1694, 1214, 2930, 1944, 2839, 2467, 3305, 3844, 3595, 2940, 3062, 3068, 2647, 2228]\n"
     ]
    }
   ],
   "source": [
    "#find the total balance of all users\n",
    "balances = []\n",
    "## create a new home for list of balances\n",
    "for profile in profiles:\n",
    "    #assing a name to individual balances using the adjusted value\n",
    "    balance = int(round(float(profile[\"balance\"].replace(\"$\",\"\").replace(\",\",\"\"))))\n",
    "    #put the balance in the list of balances\n",
    "    balances.append(balance)\n",
    "print(balances)"
   ]
  },
  {
   "cell_type": "code",
   "execution_count": 61,
   "id": "54f5347e",
   "metadata": {},
   "outputs": [
    {
     "data": {
      "text/plain": [
       "list"
      ]
     },
     "execution_count": 61,
     "metadata": {},
     "output_type": "execute_result"
    }
   ],
   "source": [
    "type(balances)"
   ]
  },
  {
   "cell_type": "code",
   "execution_count": 62,
   "id": "d6bb1cc6",
   "metadata": {},
   "outputs": [
    {
     "data": {
      "text/plain": [
       "52665"
      ]
     },
     "execution_count": 62,
     "metadata": {},
     "output_type": "execute_result"
    }
   ],
   "source": [
    "#find the total balance of all users\n",
    "sum(balances)"
   ]
  },
  {
   "cell_type": "code",
   "execution_count": 67,
   "id": "5567aa0c",
   "metadata": {},
   "outputs": [],
   "source": [
    "#find the avg balance of all users\n",
    "import numpy as np"
   ]
  },
  {
   "cell_type": "code",
   "execution_count": 68,
   "id": "4558a8f9",
   "metadata": {},
   "outputs": [
    {
     "data": {
      "text/plain": [
       "2771.842105263158"
      ]
     },
     "execution_count": 68,
     "metadata": {},
     "output_type": "execute_result"
    }
   ],
   "source": [
    "np.average(balances)"
   ]
  },
  {
   "cell_type": "code",
   "execution_count": 74,
   "id": "b3e52ee8",
   "metadata": {},
   "outputs": [
    {
     "data": {
      "text/plain": [
       "6"
      ]
     },
     "execution_count": 74,
     "metadata": {},
     "output_type": "execute_result"
    }
   ],
   "source": [
    "#user with the lowest balance\n",
    "balances.index(min(balances))"
   ]
  },
  {
   "cell_type": "code",
   "execution_count": 77,
   "id": "47d0092d",
   "metadata": {},
   "outputs": [],
   "source": [
    "user_with_lowest_balance = profiles[7]"
   ]
  },
  {
   "cell_type": "code",
   "execution_count": 78,
   "id": "20023e3b",
   "metadata": {},
   "outputs": [
    {
     "name": "stdout",
     "output_type": "stream",
     "text": [
      "{'_id': '54e23c3eb112d96e4204914d', 'index': 7, 'guid': '95f1c020-f9eb-4a29-b236-e766759d89d0', 'isActive': False, 'balance': '$2,930.31', 'picture': 'http://placehold.it/32x32', 'age': 23, 'eyeColor': 'blue', 'name': 'Michael Cash', 'gender': 'male', 'company': 'ORBIXTAR', 'email': 'michaelcash@orbixtar.com', 'phone': '+1 (996) 439-3660', 'address': '808 Duryea Court, Downsville, Northern Mariana Islands, 2154', 'about': 'Minim proident minim consectetur nostrud dolor reprehenderit. Ea est proident non do cillum eu est dolor Lorem id. Tempor enim incididunt consequat voluptate nulla ipsum voluptate id. Incididunt enim laboris nostrud in exercitation est culpa nulla velit.\\r\\n', 'registered': '2014-05-24T17:56:54 +05:00', 'latitude': -86.621367, 'longitude': -4.06197, 'tags': ['eu', 'sit', 'dolore', 'culpa', 'Lorem', 'in', 'esse'], 'friends': [{'id': 0, 'name': 'Rodgers Nolan'}, {'id': 1, 'name': 'Jewel Marks'}, {'id': 2, 'name': 'Sue Mejia'}], 'greeting': 'Hello, Michael Cash! You have 17 unread messages.', 'favoriteFruit': 'strawberry'}\n"
     ]
    }
   ],
   "source": [
    "print(user_with_lowest_balance)"
   ]
  },
  {
   "cell_type": "code",
   "execution_count": 80,
   "id": "ca95b6b4",
   "metadata": {},
   "outputs": [
    {
     "name": "stdout",
     "output_type": "stream",
     "text": [
      "{'_id': '54e23c3e54e4094147a3b1da', 'index': 3, 'guid': '69eb3454-8acc-46f1-a636-c6df00dfb542', 'isActive': False, 'balance': '$3,919.64', 'picture': 'http://placehold.it/32x32', 'age': 20, 'eyeColor': 'green', 'name': 'Fay Hammond', 'gender': 'female', 'company': 'INRT', 'email': 'fayhammond@inrt.com', 'phone': '+1 (922) 429-2592', 'address': '518 Randolph Street, Whitestone, Arizona, 8189', 'about': 'Aliqua sunt exercitation quis cupidatat fugiat nulla laboris occaecat ut reprehenderit qui incididunt. Amet excepteur qui amet mollit sint enim velit est dolor eu. Velit labore ea aute ipsum consequat culpa cupidatat excepteur aliqua. Sit commodo id est deserunt commodo. Labore sit deserunt enim in dolore incididunt. Officia qui est veniam cillum consequat minim duis Lorem esse magna culpa cupidatat cupidatat enim. Amet eiusmod elit qui reprehenderit commodo quis.\\r\\n', 'registered': '2015-01-30T08:05:38 +06:00', 'latitude': 33.825844, 'longitude': -65.969538, 'tags': ['aliqua', 'esse', 'sint', 'pariatur', 'commodo', 'do', 'anim'], 'friends': [{'id': 0, 'name': 'Dudley Booker'}, {'id': 1, 'name': 'Esmeralda Tyler'}, {'id': 2, 'name': 'Rosa Hampton'}], 'greeting': 'Hello, Fay Hammond! You have 10 unread messages.', 'favoriteFruit': 'banana'}\n"
     ]
    }
   ],
   "source": [
    "#user with the highest balance\n",
    "user_with_highest_balance = profiles[balances.index(max(balances))]\n",
    "print(user_with_highest_balance)"
   ]
  },
  {
   "cell_type": "code",
   "execution_count": 81,
   "id": "7eba44b9",
   "metadata": {},
   "outputs": [],
   "source": [
    "#function to find the most frequent item in a list\n",
    "def most_frequent(List):\n",
    "    return max(set(List), key = List.count)"
   ]
  },
  {
   "cell_type": "code",
   "execution_count": 82,
   "id": "993d421d",
   "metadata": {},
   "outputs": [],
   "source": [
    "#function to find least frequent\n",
    "def least_frequent(List):\n",
    "    return min(set(List), key = List.count)"
   ]
  },
  {
   "cell_type": "code",
   "execution_count": 83,
   "id": "c70ad017",
   "metadata": {},
   "outputs": [
    {
     "name": "stdout",
     "output_type": "stream",
     "text": [
      "['strawberry', 'apple', 'apple', 'banana', 'apple', 'apple', 'banana', 'strawberry', 'strawberry', 'banana', 'strawberry', 'strawberry', 'apple', 'strawberry', 'strawberry', 'banana', 'strawberry', 'apple', 'strawberry']\n"
     ]
    }
   ],
   "source": [
    "favorite_fruits = []\n",
    "## create a new home for list of fruits\n",
    "for profile in profiles:\n",
    "    fruit = profile[\"favoriteFruit\"]\n",
    "    favorite_fruits.append(fruit)\n",
    "print(favorite_fruits)"
   ]
  },
  {
   "cell_type": "code",
   "execution_count": 84,
   "id": "c0a36817",
   "metadata": {},
   "outputs": [
    {
     "data": {
      "text/plain": [
       "'strawberry'"
      ]
     },
     "execution_count": 84,
     "metadata": {},
     "output_type": "execute_result"
    }
   ],
   "source": [
    "#most frequent fav fruit\n",
    "most_frequent(favorite_fruits)"
   ]
  },
  {
   "cell_type": "code",
   "execution_count": 85,
   "id": "907c3ef8",
   "metadata": {},
   "outputs": [
    {
     "data": {
      "text/plain": [
       "'banana'"
      ]
     },
     "execution_count": 85,
     "metadata": {},
     "output_type": "execute_result"
    }
   ],
   "source": [
    "#least favorite fruit\n",
    "least_frequent(favorite_fruits)"
   ]
  },
  {
   "cell_type": "code",
   "execution_count": 88,
   "id": "e0ee6b4b",
   "metadata": {},
   "outputs": [
    {
     "ename": "TypeError",
     "evalue": "list indices must be integers or slices, not str",
     "output_type": "error",
     "traceback": [
      "\u001b[0;31m---------------------------------------------------------------------------\u001b[0m",
      "\u001b[0;31mTypeError\u001b[0m                                 Traceback (most recent call last)",
      "\u001b[0;32m/var/folders/73/8c9znrxs6gv1sc4y9jvw8pvh0000gn/T/ipykernel_59924/742143187.py\u001b[0m in \u001b[0;36m<module>\u001b[0;34m\u001b[0m\n\u001b[0;32m----> 1\u001b[0;31m \u001b[0mtype\u001b[0m\u001b[0;34m(\u001b[0m\u001b[0mprofiles\u001b[0m\u001b[0;34m[\u001b[0m\u001b[0;34m\"greeting\"\u001b[0m\u001b[0;34m]\u001b[0m\u001b[0;34m)\u001b[0m\u001b[0;34m\u001b[0m\u001b[0;34m\u001b[0m\u001b[0m\n\u001b[0m",
      "\u001b[0;31mTypeError\u001b[0m: list indices must be integers or slices, not str"
     ]
    }
   ],
   "source": [
    "for p\n",
    "    type(profiles[\"greeting\"])"
   ]
  },
  {
   "cell_type": "code",
   "execution_count": null,
   "id": "6c839adb",
   "metadata": {},
   "outputs": [],
   "source": []
  }
 ],
 "metadata": {
  "kernelspec": {
   "display_name": "Python 3 (ipykernel)",
   "language": "python",
   "name": "python3"
  },
  "language_info": {
   "codemirror_mode": {
    "name": "ipython",
    "version": 3
   },
   "file_extension": ".py",
   "mimetype": "text/x-python",
   "name": "python",
   "nbconvert_exporter": "python",
   "pygments_lexer": "ipython3",
   "version": "3.9.13"
  }
 },
 "nbformat": 4,
 "nbformat_minor": 5
}
