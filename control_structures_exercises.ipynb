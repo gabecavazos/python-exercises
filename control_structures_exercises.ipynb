{
 "cells": [
  {
   "cell_type": "code",
   "execution_count": 16,
   "id": "c5e75a8b",
   "metadata": {},
   "outputs": [
    {
     "name": "stdout",
     "output_type": "stream",
     "text": [
      "2\n",
      "4\n",
      "16\n",
      "256\n",
      "65536\n"
     ]
    }
   ],
   "source": [
    "# 2iii\n",
    "n=2\n",
    "print(n)\n",
    "while True:\n",
    "    n *= n\n",
    "    if n < 1000000:\n",
    "        print(n)\n",
    "        continue\n",
    "    break"
   ]
  },
  {
   "cell_type": "code",
   "execution_count": 36,
   "id": "025c4420",
   "metadata": {},
   "outputs": [
    {
     "name": "stdout",
     "output_type": "stream",
     "text": [
      "100\n",
      "95\n",
      "90\n",
      "85\n",
      "80\n",
      "75\n",
      "70\n",
      "65\n",
      "60\n",
      "55\n",
      "50\n",
      "45\n",
      "40\n",
      "35\n",
      "30\n",
      "25\n",
      "20\n",
      "15\n",
      "10\n",
      "5\n",
      "0\n"
     ]
    }
   ],
   "source": [
    "#2 iv\n",
    "n = 100\n",
    "while n >= 0:\n",
    "    print(n)\n",
    "    n -= 5"
   ]
  },
  {
   "cell_type": "code",
   "execution_count": 46,
   "id": "1e989057",
   "metadata": {},
   "outputs": [
    {
     "name": "stdout",
     "output_type": "stream",
     "text": [
      "input number: 8\n"
     ]
    },
    {
     "data": {
      "text/plain": [
       "int"
      ]
     },
     "execution_count": 46,
     "metadata": {},
     "output_type": "execute_result"
    }
   ],
   "source": [
    "#2bi\n",
    "y = int(input('input number: '))\n",
    "type(y)\n"
   ]
  },
  {
   "cell_type": "code",
   "execution_count": 49,
   "id": "8cfd22ef",
   "metadata": {},
   "outputs": [
    {
     "name": "stdout",
     "output_type": "stream",
     "text": [
      "input number: 8\n",
      "8 x 0 = 0\n",
      "8 x 1 = 8\n",
      "8 x 2 = 16\n",
      "8 x 3 = 24\n",
      "8 x 4 = 32\n",
      "8 x 5 = 40\n",
      "8 x 6 = 48\n",
      "8 x 7 = 56\n",
      "8 x 8 = 64\n",
      "8 x 9 = 72\n",
      "8 x 10 = 80\n"
     ]
    }
   ],
   "source": [
    "y = int(input('input number: '))\n",
    "for z in range(11):\n",
    "    result = y * z\n",
    "    print(f'{y} x {z} = {result}')"
   ]
  },
  {
   "cell_type": "code",
   "execution_count": 50,
   "id": "d326ba0d",
   "metadata": {},
   "outputs": [
    {
     "name": "stdout",
     "output_type": "stream",
     "text": [
      "1\n",
      "22\n",
      "333\n",
      "4444\n",
      "55555\n",
      "666666\n",
      "7777777\n",
      "88888888\n",
      "999999999\n"
     ]
    }
   ],
   "source": [
    "#2bii\n",
    "for i in range(1,10):\n",
    "    line = str(i) * i\n",
    "    print(line)"
   ]
  },
  {
   "cell_type": "code",
   "execution_count": 67,
   "id": "d4ba951e",
   "metadata": {},
   "outputs": [
    {
     "name": "stdout",
     "output_type": "stream",
     "text": [
      "positive integer please: 8\n",
      "8\n",
      "7\n",
      "6\n",
      "5\n",
      "4\n",
      "3\n",
      "2\n",
      "1\n"
     ]
    }
   ],
   "source": [
    "#2ci\n",
    "pos_int = int(input('positive integer please: '))\n",
    "while True:\n",
    "    if pos_int <= 0:\n",
    "        break\n",
    "    print(pos_int)\n",
    "    pos_int -= 1"
   ]
  },
  {
   "cell_type": "code",
   "execution_count": 66,
   "id": "97168648",
   "metadata": {},
   "outputs": [
    {
     "name": "stdout",
     "output_type": "stream",
     "text": [
      "positive integer please: 8\n",
      "8\n",
      "7\n",
      "6\n",
      "5\n",
      "4\n",
      "3\n",
      "2\n",
      "1\n"
     ]
    }
   ],
   "source": [
    "pos_int = int(input('positive integer please: '))\n",
    "for pos_int in range(pos_int,0,-1):\n",
    "    print(pos_int)"
   ]
  },
  {
   "cell_type": "code",
   "execution_count": 71,
   "id": "bfaba20a",
   "metadata": {},
   "outputs": [
    {
     "name": "stdout",
     "output_type": "stream",
     "text": [
      "number | square | Cube\n",
      "----------------------\n",
      "   1   |   1    |  1   \n",
      "   2   |   4    |  8   \n",
      "   3   |   9    |  27  \n",
      "   4   |   16   |  64  \n",
      "   5   |   25   | 125  \n",
      "   6   |   36   | 216  \n",
      "   7   |   49   | 343  \n",
      "   8   |   64   | 512  \n"
     ]
    }
   ],
   "source": [
    "#4\n",
    "user_num = int(input('input integer'))\n",
    "print('number | square | Cube')\n",
    "print('----------------------')\n",
    "#inside the for loop {:^7} etc defines white space\n",
    "for i in range(1,user_num+1):\n",
    "    print(f'{i:^7}|{i**2:^8}|{i**3:^6}')"
   ]
  },
  {
   "cell_type": "code",
   "execution_count": 77,
   "id": "62d7af13",
   "metadata": {},
   "outputs": [
    {
     "name": "stdout",
     "output_type": "stream",
     "text": [
      "please enter an integer:\n",
      "8\n",
      "number | square | Cube\n",
      "----------------------\n",
      "   1   |   1    |  1   \n",
      "   2   |   4    |  8   \n",
      "   3   |   9    |  27  \n",
      "   4   |   16   |  64  \n",
      "   5   |   25   | 125  \n",
      "   6   |   36   | 216  \n",
      "   7   |   49   | 343  \n",
      "   8   |   64   | 512  \n",
      "would you like to go again?n\n"
     ]
    }
   ],
   "source": [
    "while True:\n",
    "    my_num = input('please enter an integer:\\n')\n",
    "    # use str.isdigit to create a bool\n",
    "    if my_num.isdigit():\n",
    "        my_num = int(my_num)\n",
    "        print('number | square | Cube')\n",
    "        print('----------------------')\n",
    "#inside the for loop {:^7} etc defines white space\n",
    "        for i in range(1,my_num+1):\n",
    "            print(f'{i:^7}|{i**2:^8}|{i**3:^6}')\n",
    "        continue_var = input('would you like to go again?')\n",
    "        if continue_var.lower().startswith('n'):\n",
    "            break"
   ]
  },
  {
   "cell_type": "code",
   "execution_count": null,
   "id": "cf037176",
   "metadata": {},
   "outputs": [],
   "source": []
  }
 ],
 "metadata": {
  "kernelspec": {
   "display_name": "Python 3 (ipykernel)",
   "language": "python",
   "name": "python3"
  },
  "language_info": {
   "codemirror_mode": {
    "name": "ipython",
    "version": 3
   },
   "file_extension": ".py",
   "mimetype": "text/x-python",
   "name": "python",
   "nbconvert_exporter": "python",
   "pygments_lexer": "ipython3",
   "version": "3.9.13"
  }
 },
 "nbformat": 4,
 "nbformat_minor": 5
}
