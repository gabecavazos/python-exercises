{
 "cells": [
  {
   "cell_type": "code",
   "execution_count": null,
   "id": "d4036cf3",
   "metadata": {},
   "outputs": [],
   "source": []
  },
  {
   "cell_type": "code",
   "execution_count": 1,
   "id": "9044cb75",
   "metadata": {},
   "outputs": [],
   "source": [
    "#initialize modules, and variables\n",
    "import os\n",
    "import csv\n",
    "balance = 0\n",
    "amount = 0\n",
    "transaction_id = 0\n",
    "#name colums and rows\n",
    "cols = ['transaction_id','amount','transaction_type']\n",
    "transaction = {'transaction_id': 1,'amount':0,'transaction_type':'debit'}\n",
    "\n",
    "#create the checkbook csv to write to\n",
    "with open('checkbookpy.csv','w') as cb:\n",
    "    writer = csv.DictWriter(cb, fieldnames=cols)\n",
    "    writer.writeheader()\n",
    "    writer.writerow(transaction)"
   ]
  },
  {
   "cell_type": "code",
   "execution_count": 2,
   "id": "57ad5278",
   "metadata": {},
   "outputs": [],
   "source": [
    "#function to add debit\n",
    "def add_deposit(amount):\n",
    "    global balance\n",
    "    global transaction_id\n",
    "    transaction_id += 1\n",
    "    transaction_type = 'credit'\n",
    "    balance += amount\n",
    "    with open('checkbookpy.csv', 'a', newline='') as cb:\n",
    "        writer = csv.writer(cb)\n",
    "        writer.writerow([transaction_id, amount, transaction_type])"
   ]
  },
  {
   "cell_type": "code",
   "execution_count": 3,
   "id": "f49c5056",
   "metadata": {},
   "outputs": [],
   "source": [
    "#function to subtract withdrawal amount\n",
    "def add_withdrawal(amount):\n",
    "    global transaction_id\n",
    "    global balance\n",
    "    transaction_id += 1\n",
    "    transaction_type = 'debit'\n",
    "    balance -= amount\n",
    "    with open('checkbookpy.csv', 'a', newline='') as cb:\n",
    "        writer = csv.writer(cb)\n",
    "        writer.writerow([transaction_id, amount, transaction_type])\n",
    "    "
   ]
  },
  {
   "cell_type": "code",
   "execution_count": 135,
   "id": "87405ea5",
   "metadata": {},
   "outputs": [],
   "source": [
    "#update balance outside of function calls\n",
    "#add_deposit(113.00)\n"
   ]
  },
  {
   "cell_type": "code",
   "execution_count": 137,
   "id": "71411963",
   "metadata": {},
   "outputs": [],
   "source": [
    "#add_withdrawal(113.00)"
   ]
  },
  {
   "cell_type": "code",
   "execution_count": 133,
   "id": "86d1fa19",
   "metadata": {},
   "outputs": [
    {
     "name": "stdout",
     "output_type": "stream",
     "text": [
      "0.0\n"
     ]
    }
   ],
   "source": [
    "#print(balance)"
   ]
  },
  {
   "cell_type": "code",
   "execution_count": 9,
   "id": "7629d605",
   "metadata": {},
   "outputs": [
    {
     "name": "stdout",
     "output_type": "stream",
     "text": [
      "['transaction_id', 'amount', 'transaction_type']\n",
      "['1', '0', 'debit']\n"
     ]
    }
   ],
   "source": [
    "#function to call checkbook csv\n",
    "def read_checkbookpy():\n",
    "    with open('checkbookpy.csv', 'r') as cb:\n",
    "        reader = csv.reader(cb)\n",
    "        for row in reader:\n",
    "            print(row)\n",
    "\n",
    "read_checkbookpy()"
   ]
  },
  {
   "cell_type": "code",
   "execution_count": null,
   "id": "46535a4f",
   "metadata": {},
   "outputs": [],
   "source": [
    "#initialize input prompt\n",
    "print('Welcome to Checkbook! Here are your options:\\n1) view current balance\\n2) record a transaction\\n4) exit')\n",
    "home_input = input('What would you like to do?')"
   ]
  },
  {
   "cell_type": "code",
   "execution_count": 9,
   "id": "e2c8020e",
   "metadata": {},
   "outputs": [
    {
     "ename": "SyntaxError",
     "evalue": "invalid syntax (4184177984.py, line 2)",
     "output_type": "error",
     "traceback": [
      "\u001b[0;36m  File \u001b[0;32m\"/var/folders/73/8c9znrxs6gv1sc4y9jvw8pvh0000gn/T/ipykernel_47832/4184177984.py\"\u001b[0;36m, line \u001b[0;32m2\u001b[0m\n\u001b[0;31m    for home_input == '1'\u001b[0m\n\u001b[0m                         ^\u001b[0m\n\u001b[0;31mSyntaxError\u001b[0m\u001b[0;31m:\u001b[0m invalid syntax\n"
     ]
    }
   ],
   "source": [
    "home_input = input('What would you like to do? ')"
   ]
  },
  {
   "cell_type": "code",
   "execution_count": 148,
   "id": "d1aa3efa",
   "metadata": {},
   "outputs": [],
   "source": [
    "#Selection if input is 1(check balance)\n",
    "if home_input == '1':\n",
    "    print('your current balance is: ',balance)"
   ]
  },
  {
   "cell_type": "code",
   "execution_count": null,
   "id": "77693969",
   "metadata": {},
   "outputs": [],
   "source": [
    "#Selection if input is 3(record a deposit)\n",
    "if home_input == '3':\n",
    "    #more inputs to fill fields"
   ]
  },
  {
   "cell_type": "code",
   "execution_count": 10,
   "id": "7d8c4949",
   "metadata": {},
   "outputs": [],
   "source": [
    "#Selection if input is 3(record a deposit)\n",
    "if home_input == '4':\n",
    "    print('Thanks for stopping by, see ya!')"
   ]
  },
  {
   "cell_type": "code",
   "execution_count": 4,
   "id": "b4df7300",
   "metadata": {},
   "outputs": [
    {
     "name": "stdout",
     "output_type": "stream",
     "text": [
      "Welcome to Checkbook! Here are your options:\n",
      "1) view current balance\n",
      "2) record a transaction\n",
      "3) exit\n",
      "What would you like to do? 3\n",
      "Thanks for stopping by, see ya!\n"
     ]
    }
   ],
   "source": [
    "#this is all the code to run the checkbook program\n",
    "print('Welcome to Checkbook! Here are your options:\\n1) view current balance\\n2) record a transaction\\n3) exit')\n",
    "home_input = input('What would you like to do? ')\n",
    "if home_input == '1':\n",
    "    print('your current balance is: ',balance)\n",
    "if home_input == '2':\n",
    "    print('what type of transaction? \\n1) withdrawal\\n2) debit?')\n",
    "    transaction_type = input('Transaction Type: ')\n",
    "    if transaction_type == '1':\n",
    "        amount = input('how much are you withdrawaling today?: ')\n",
    "        add_withdrawal(float(amount))\n",
    "        print(f'your new balance is: ', balance)\n",
    "        done = input('main menu? y or n): ')\n",
    "    if transaction_type == '2':\n",
    "        amount = input('how much are you deposting today?: ')\n",
    "        add_deposit(float(amount))\n",
    "        print(f'your new balance is: ', balance)\n",
    "        done = input('main menu? y or n): ')\n",
    "if home_input == '3':\n",
    "    print('Thanks for stopping by, see ya!')"
   ]
  },
  {
   "cell_type": "code",
   "execution_count": 7,
   "id": "0992721d",
   "metadata": {},
   "outputs": [
    {
     "name": "stdout",
     "output_type": "stream",
     "text": [
      "Welcome to Checkbook! Here are your options:\n",
      "1) view current balance\n",
      "2) record a transaction\n",
      "3) exit\n",
      "What would you like to do? 2\n",
      "what type of transaction? \n",
      "1) withdrawal\n",
      "2) deposit\n",
      "Transaction Type: 2\n",
      "how much are you deposting today?: 1000\n",
      "your new balance is:  900.0\n",
      "done? y or n): n\n",
      "what type of transaction? \n",
      "1) withdrawal\n",
      "2) deposit\n",
      "Transaction Type: 1\n",
      "how much are you withdrawaling today?: 100\n",
      "your new balance is:  800.0\n",
      "done? y or n: n\n",
      "what type of transaction? \n",
      "1) withdrawal\n",
      "2) deposit\n",
      "Transaction Type: 1\n",
      "how much are you withdrawaling today?: 100\n",
      "your new balance is:  700.0\n",
      "done? y or n: y\n",
      "goodbye\n"
     ]
    }
   ],
   "source": [
    "#this is all the code to run the checkbook program\n",
    "print('Welcome to Checkbook! Here are your options:\\n1) view current balance\\n2) record a transaction\\n3) exit')\n",
    "home_input = input('What would you like to do? ')\n",
    "while True:\n",
    "    if home_input == '1':\n",
    "        print('your current balance is: ',balance)\n",
    "        break\n",
    "    elif home_input == '2':\n",
    "        print('what type of transaction? \\n1) withdrawal\\n2) deposit')\n",
    "        transaction_type = input('Transaction Type: ')\n",
    "        if transaction_type == '1':\n",
    "            amount = input('how much are you withdrawaling today?: ')\n",
    "            add_withdrawal(float(amount))\n",
    "            print(f'your new balance is: ', balance)\n",
    "            done = input('done? y or n: ')\n",
    "            if done == 'y':\n",
    "                print('goodbye')\n",
    "            else:\n",
    "                continue\n",
    "        if transaction_type == '2':\n",
    "            amount = input('how much are you deposting today?: ')\n",
    "            add_deposit(float(amount))\n",
    "            print(f'your new balance is: ', balance)\n",
    "            done = input('done? y or n): ')\n",
    "            if done == 'y':\n",
    "                print('goodbye')\n",
    "            else:\n",
    "                continue\n",
    "        break\n",
    "    elif home_input == '3':\n",
    "        print('Thanks for stopping by, see ya!')\n",
    "        break\n",
    "    else:\n",
    "        print('invalid entry, try again')\n",
    "        break\n",
    "        continue\n",
    "        break"
   ]
  },
  {
   "cell_type": "code",
   "execution_count": null,
   "id": "1eef6ef8",
   "metadata": {},
   "outputs": [],
   "source": []
  }
 ],
 "metadata": {
  "kernelspec": {
   "display_name": "Python 3 (ipykernel)",
   "language": "python",
   "name": "python3"
  },
  "language_info": {
   "codemirror_mode": {
    "name": "ipython",
    "version": 3
   },
   "file_extension": ".py",
   "mimetype": "text/x-python",
   "name": "python",
   "nbconvert_exporter": "python",
   "pygments_lexer": "ipython3",
   "version": "3.9.13"
  }
 },
 "nbformat": 4,
 "nbformat_minor": 5
}
