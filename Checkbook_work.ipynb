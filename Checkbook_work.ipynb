{
 "cells": [
  {
   "cell_type": "code",
   "execution_count": null,
   "id": "d4036cf3",
   "metadata": {},
   "outputs": [],
   "source": []
  },
  {
   "cell_type": "code",
   "execution_count": 3,
   "id": "9044cb75",
   "metadata": {},
   "outputs": [],
   "source": [
    "#initialize modules, and variables\n",
    "import os\n",
    "import csv\n",
    "balance = 0\n",
    "amount = 0\n",
    "transaction_id = 0\n",
    "#name colums and rows\n",
    "cols = ['transaction_id','amount','transaction_type']\n",
    "transaction = {'transaction_id': 1,'amount':0,'transaction_type':'debit'}"
   ]
  },
  {
   "cell_type": "code",
   "execution_count": 4,
   "id": "2f4fef91",
   "metadata": {},
   "outputs": [],
   "source": [
    "#create the checkbook csv to write to\n",
    "with open('checkbookpy.csv','w') as cb:\n",
    "    writer = csv.DictWriter(cb, fieldnames=cols)\n",
    "    writer.writeheader()\n",
    "    writer.writerow(transaction)"
   ]
  },
  {
   "cell_type": "code",
   "execution_count": 5,
   "id": "152afa7d",
   "metadata": {},
   "outputs": [],
   "source": [
    "#********function to write csvs********\n",
    "def write_to_csv(file_name, fieldnames, transaction):\n",
    "    with open(file_name, 'w') as csvfile:\n",
    "        writer = csv.DictWriter(csvfile, fieldnames=fieldnames)\n",
    "        writer.writeheader()\n",
    "        writer.writerow(transaction)\n"
   ]
  },
  {
   "cell_type": "code",
   "execution_count": 6,
   "id": "aa30725c",
   "metadata": {},
   "outputs": [],
   "source": [
    "#function to clear checkbook history\n",
    "def clear_checkbookpy_history():\n",
    "    write_to_csv('checkbookpy.csv', cols, transaction)"
   ]
  },
  {
   "cell_type": "markdown",
   "id": "00bf9067",
   "metadata": {},
   "source": [
    "In this example, the write_to_csv function takes three arguments: file_name, fieldnames, and transaction. The file_name argument is the name of the CSV file that you want to write to, the fieldnames argument is a list of the field names for the columns in the file, and the transaction argument is a dictionary representing a single transaction.\n",
    "\n",
    "The function uses the with statement to open the specified file and write the header row and a single transaction to the file using a csv.DictWriter object.\n",
    "\n",
    "To use the function, you need to provide the appropriate values for the file_name, fieldnames, and transaction arguments, and call the function. In the example, the values are assigned to the file_name, cols, and transaction variables, respectively, and the write_to_csv function is called with these values.\n",
    " import csv\n",
    "\n",
    "def write_to_csv(file_name, fieldnames, transaction):\n",
    "    with open(file_name, 'w') as csvfile:\n",
    "        writer = csv.DictWriter(csvfile, fieldnames=fieldnames)\n",
    "        writer.writeheader()\n",
    "        writer.writerow(transaction)\n",
    "\n",
    "cols = ['Transaction ID', 'Amount', 'Type']\n",
    "transaction = {'Transaction ID': 1, 'Amount': 100.0, 'Type': 'debit'}\n",
    "file_name = 'checkbookpy.csv'\n",
    "write_to_csv(file_name, cols, transaction)"
   ]
  },
  {
   "cell_type": "code",
   "execution_count": 7,
   "id": "57ad5278",
   "metadata": {},
   "outputs": [],
   "source": [
    "#function to add debit\n",
    "def add_deposit(amount):\n",
    "    global balance\n",
    "    global transaction_id\n",
    "    transaction_id += 1\n",
    "    transaction_type = 'credit'\n",
    "    balance += amount\n",
    "    with open('checkbookpy.csv', 'a', newline='') as cb:\n",
    "        writer = csv.writer(cb)\n",
    "        writer.writerow([transaction_id, amount, transaction_type])"
   ]
  },
  {
   "cell_type": "code",
   "execution_count": 8,
   "id": "f49c5056",
   "metadata": {},
   "outputs": [],
   "source": [
    "#function to subtract withdrawal amount\n",
    "def add_withdrawal(amount):\n",
    "    global transaction_id\n",
    "    global balance\n",
    "    transaction_id += 1\n",
    "    transaction_type = 'debit'\n",
    "    balance -= amount\n",
    "    with open('checkbookpy.csv', 'a', newline='') as cb:\n",
    "        writer = csv.writer(cb)\n",
    "        writer.writerow([transaction_id, amount, transaction_type])\n",
    "    "
   ]
  },
  {
   "cell_type": "code",
   "execution_count": 9,
   "id": "e07dc2e0",
   "metadata": {},
   "outputs": [],
   "source": [
    "#function to get balance\n",
    "def get_balance():\n",
    "    print('your current balance is: ',balance)"
   ]
  },
  {
   "cell_type": "code",
   "execution_count": 10,
   "id": "d3dda55d",
   "metadata": {},
   "outputs": [],
   "source": [
    "#function to exit\n",
    "def exit_cb():\n",
    "    print('Thanks for stopping by, see ya!')\n",
    "    "
   ]
  },
  {
   "cell_type": "code",
   "execution_count": 11,
   "id": "93f96329",
   "metadata": {},
   "outputs": [
    {
     "name": "stdout",
     "output_type": "stream",
     "text": [
      "100 is a decimal.\n"
     ]
    }
   ],
   "source": [
    "#function for decimal check\n",
    "def is_decimal(value):\n",
    "    try:\n",
    "        float(value)\n",
    "        return True\n",
    "    except ValueError:\n",
    "        return False\n",
    "\n",
    "value = '100'\n",
    "if is_decimal(value):\n",
    "    print(f\"{value} is a decimal.\")\n",
    "else:\n",
    "    print(f\"{value} is not a decimal.\")\n"
   ]
  },
  {
   "cell_type": "code",
   "execution_count": 10,
   "id": "87405ea5",
   "metadata": {},
   "outputs": [],
   "source": [
    "#update balance outside of function calls\n",
    "#add_deposit(113.00)\n"
   ]
  },
  {
   "cell_type": "code",
   "execution_count": 11,
   "id": "71411963",
   "metadata": {},
   "outputs": [],
   "source": [
    "#add_withdrawal(113.00)"
   ]
  },
  {
   "cell_type": "code",
   "execution_count": 11,
   "id": "86d1fa19",
   "metadata": {},
   "outputs": [],
   "source": [
    "#print(balance)"
   ]
  },
  {
   "cell_type": "code",
   "execution_count": 12,
   "id": "7629d605",
   "metadata": {},
   "outputs": [
    {
     "name": "stdout",
     "output_type": "stream",
     "text": [
      "['transaction_id', 'amount', 'transaction_type']\n",
      "['1', '0', 'debit']\n"
     ]
    }
   ],
   "source": [
    "#function to call checkbook csv\n",
    "def read_checkbookpy():\n",
    "    with open('checkbookpy.csv', 'r') as cb:\n",
    "        reader = csv.reader(cb)\n",
    "        for row in reader:\n",
    "            print(row)\n",
    "\n",
    "read_checkbookpy()"
   ]
  },
  {
   "cell_type": "code",
   "execution_count": 14,
   "id": "46535a4f",
   "metadata": {},
   "outputs": [
    {
     "name": "stdout",
     "output_type": "stream",
     "text": [
      "Welcome to Checkbook! Here are your options:\n",
      "1) view current balance\n",
      "2) record a transaction\n",
      "4) exit\n",
      "What would you like to do?3\n"
     ]
    }
   ],
   "source": [
    "#initialize input prompt\n",
    "print('Welcome to Checkbook! Here are your options:\\n1) view current balance\\n2) record a transaction\\n4) exit')\n",
    "home_input = input('What would you like to do?')"
   ]
  },
  {
   "cell_type": "code",
   "execution_count": null,
   "id": "b4df7300",
   "metadata": {},
   "outputs": [
    {
     "name": "stdout",
     "output_type": "stream",
     "text": [
      "Welcome to Checkbook! Here are your options:\n",
      "1) view current balance\n",
      "2) record a transaction\n",
      "3) exit\n"
     ]
    }
   ],
   "source": [
    "#this is all the code to run the checkbook program\n",
    "print('Welcome to Checkbook! Here are your options:\\n1) view current balance\\n2) record a transaction\\n3) exit')\n",
    "home_input = input('What would you like to do? ')\n",
    "while True:\n",
    "    if home_input == '1':\n",
    "        get_balance()\n",
    "        break\n",
    "    elif home_input == '2':\n",
    "        print('what type of transaction? \\n1) withdrawal\\n2) deposit')\n",
    "        transaction_type = input('Transaction Type: ')\n",
    "        if transaction_type == '1':\n",
    "            amount = input('how much are you withdrawaling today?: ')\n",
    "            if is_decimal(amount):\n",
    "                add_withdrawal(float(amount))\n",
    "                print(f'your new balance is: $', balance)\n",
    "            else:\n",
    "                print('Sorry, I need digits! try again')\n",
    "                continue\n",
    "            done = input('done? y or n: ')\n",
    "            if done == 'y':\n",
    "                print('follow me back to the main menu!')\n",
    "            else:\n",
    "                continue\n",
    "        if transaction_type == '2':\n",
    "            amount = input('how much are you deposting today?: ')\n",
    "            if is_decimal(amount):\n",
    "                add_deposit(float(amount))\n",
    "                print(f'your new balance is: $', balance)\n",
    "            else:\n",
    "                print('Sorry, I need digits! try again')\n",
    "                continue\n",
    "            done = input('done? y or n): ')\n",
    "            if done == 'y':\n",
    "                print('goodbye')\n",
    "        else:\n",
    "            print('invalid selection try again')\n",
    "            continue\n",
    "        break\n",
    "    elif home_input == '3':\n",
    "        exit_cb()\n",
    "        break\n",
    "    else:\n",
    "        print('nah-ah-ah, you didn\\'t say the magic word!')\n",
    "        continue"
   ]
  },
  {
   "cell_type": "code",
   "execution_count": null,
   "id": "c9f512c6",
   "metadata": {},
   "outputs": [],
   "source": [
    "## this is the scratch cell to work on the checkbook program\n",
    "while True:\n",
    "    main_menu()\n",
    "    if home_input == '1':\n",
    "        get_balance()\n",
    "    if home_input == '2':\n",
    "        print('what type of transaction? \\n1) withdrawal\\n2) deposit')\n",
    "        transaction_type = input('Transaction Type: ')\n",
    "        if transaction_type == '1':\n",
    "            amount = input('how much are you withdrawaling today?: ')\n",
    "            if is_decimal(amount):\n",
    "                add_withdrawal(float(amount))\n",
    "                print(f'your new balance is: $', balance)\n",
    "            else:\n",
    "                print('Sorry, I need digits! try again')\n",
    "                continue\n",
    "            done = input('done? y or n: ')\n",
    "            if done == 'y':\n",
    "                print('follow me back to the main menu!')\n",
    "            else:\n",
    "                continue\n",
    "        if transaction_type == '2':\n",
    "            amount = input('how much are you deposting today?: ')\n",
    "            if is_decimal(amount):\n",
    "                add_deposit(float(amount))\n",
    "                print(f'your new balance is: $', balance)\n",
    "            else:\n",
    "                print('Sorry, I need digits! try again')\n",
    "                amount = input('how much are you deposting today?: ')\n",
    "            done = input('done? y or n): ')\n",
    "            if done == 'y':\n",
    "                print('goodbye')\n",
    "        else:\n",
    "            print('invalid selection try again')\n",
    "            continue\n",
    "        break\n",
    "    elif home_input == '3':\n",
    "        exit_cb()\n",
    "        break\n",
    "    else:\n",
    "        print('nah-ah-ah, you didn\\'t say the magic word!')\n",
    "        break\n",
    "        continue\n",
    "        break"
   ]
  },
  {
   "cell_type": "code",
   "execution_count": 100,
   "id": "8060adb0",
   "metadata": {},
   "outputs": [
    {
     "ename": "SyntaxError",
     "evalue": "invalid syntax (2005663540.py, line 8)",
     "output_type": "error",
     "traceback": [
      "\u001b[0;36m  File \u001b[0;32m\"/var/folders/73/8c9znrxs6gv1sc4y9jvw8pvh0000gn/T/ipykernel_29887/2005663540.py\"\u001b[0;36m, line \u001b[0;32m8\u001b[0m\n\u001b[0;31m    for transaction_type = input('Transaction Type: ')\u001b[0m\n\u001b[0m                         ^\u001b[0m\n\u001b[0;31mSyntaxError\u001b[0m\u001b[0;31m:\u001b[0m invalid syntax\n"
     ]
    }
   ],
   "source": [
    "while True:\n",
    "    print('\\nWelcome to Checkbook! Here are your options:\\n1) view current balance\\n2) record a transaction\\n3) exit')\n",
    "    home_input = input('\\nWhat would you like to do? ')\n",
    "    if home_input == '1':\n",
    "        get_balance()\n",
    "    elif home_input == '2':\n",
    "        print('\\nwhat type of transaction? \\n1) withdrawal\\n2) deposit')\n",
    "        for transaction_type = input('Transaction Type: ')\n",
    "            if transaction_type == '1':\n",
    "                amount = input('how much are you withdrawaling today?: ')\n",
    "                if is_decimal(amount):\n",
    "                    add_withdrawal(float(amount))\n",
    "                    print(f'your new balance is: $', balance)\n",
    "                else:\n",
    "                    print('\\nSorry, I need digits! try again\\n')\n",
    "            elif transaction_type == '2':\n",
    "                amount = input('how much are you deposting today?: ')\n",
    "                if is_decimal(amount):\n",
    "                    add_deposit(float(amount))\n",
    "                    print(f'your new balance is: $', balance)\n",
    "                else:\n",
    "                    print('\\nSorry, I need digits! try again\\n')\n",
    "                    amount = input('how much are you deposting today?: ')\n",
    "            else:\n",
    "                print('\\ninvalid entry, try again\\n')\n",
    "                continue\n",
    "\n",
    "        done = input('done? y or n): ')\n",
    "        if done == 'y':\n",
    "            print('\\nback to main menu\\n')\n",
    "\n",
    "    elif home_input == '3':\n",
    "        exit_cb()\n",
    "        break\n",
    "    else:\n",
    "        print('\\nnah-ah-ah, you didn\\'t say the magic word!\\n')\n",
    "        "
   ]
  },
  {
   "cell_type": "code",
   "execution_count": 13,
   "id": "7ee8ada5",
   "metadata": {},
   "outputs": [],
   "source": [
    "def main_menu():\n",
    "    print('Welcome to Checkbook! Here are your options:\\n1) view current balance\\n2) record a transaction\\n3) exit')\n",
    "    home_input = input('What would you like to do? ')"
   ]
  },
  {
   "cell_type": "code",
   "execution_count": 15,
   "id": "d565e9fc",
   "metadata": {},
   "outputs": [
    {
     "name": "stdout",
     "output_type": "stream",
     "text": [
      "Welcome to Checkbook! Here are your options:\n",
      "1) view current balance\n",
      "2) record a transaction\n",
      "3) exit\n",
      "What would you like to do? 1\n"
     ]
    }
   ],
   "source": [
    "main_menu()"
   ]
  },
  {
   "cell_type": "code",
   "execution_count": 14,
   "id": "1eef6ef8",
   "metadata": {},
   "outputs": [
    {
     "name": "stdout",
     "output_type": "stream",
     "text": [
      "['transaction_id', 'amount', 'transaction_type']\n",
      "['1', '0', 'debit']\n"
     ]
    }
   ],
   "source": [
    "read_checkbookpy()"
   ]
  },
  {
   "cell_type": "code",
   "execution_count": null,
   "id": "377ea773",
   "metadata": {},
   "outputs": [],
   "source": [
    "clear_checkbookpy_history()"
   ]
  },
  {
   "cell_type": "code",
   "execution_count": null,
   "id": "34ed640d",
   "metadata": {},
   "outputs": [],
   "source": [
    "var = '100.00'"
   ]
  },
  {
   "cell_type": "code",
   "execution_count": null,
   "id": "d807f357",
   "metadata": {},
   "outputs": [],
   "source": [
    "print(var.isdigit())\n",
    "print(var.isdecimal())\n",
    "print(var.isnumeric())"
   ]
  },
  {
   "cell_type": "code",
   "execution_count": 34,
   "id": "65b2f253",
   "metadata": {},
   "outputs": [
    {
     "name": "stdout",
     "output_type": "stream",
     "text": [
      "\n",
      "Welcome to Checkbook! Here are your options:\n",
      "1) view current balance\n",
      "2) record a transaction\n",
      "3) exit\n",
      "\n",
      "What would you like to do? a\n",
      "\n",
      "nah-ah-ah, you didn't say the magic word!\n",
      "\n",
      "\n",
      "Welcome to Checkbook! Here are your options:\n",
      "1) view current balance\n",
      "2) record a transaction\n",
      "3) exit\n",
      "\n",
      "What would you like to do? 3\n",
      "Thanks for stopping by, see ya!\n"
     ]
    }
   ],
   "source": [
    "while True:\n",
    "    print('\\nWelcome to Checkbook! Here are your options:\\n1) view current balance\\n2) record a transaction\\n3) exit')\n",
    "    home_input = input('\\nWhat would you like to do? ')\n",
    "    if home_input == '1':\n",
    "        get_balance()\n",
    "    elif home_input == '2':\n",
    "        print('\\nwhat type of transaction? \\n1) withdrawal\\n2) deposit\\n')\n",
    "        transaction_type = input('Transaction Type: ')\n",
    "        if transaction_type == '1':\n",
    "            amount = input('how much are you withdrawaling today?: ')\n",
    "            if is_decimal(amount):\n",
    "                add_withdrawal(float(amount))\n",
    "                print(f'your new balance is: $', balance)\n",
    "                print('back to main menu')\n",
    "            else:\n",
    "                print('\\nSorry, I need digits! try again\\nback to main menu')\n",
    "        elif transaction_type == '2':\n",
    "            amount = input('how much are you deposting today?: ')\n",
    "            if is_decimal(amount):\n",
    "                add_deposit(float(amount))\n",
    "                print(f'your new balance is: $', balance)\n",
    "                print('back to main menu')\n",
    "            else:\n",
    "                print('\\nSorry, I need digits! try again\\n')\n",
    "                print('\\nback to main menu\\n')\n",
    "        else:\n",
    "            print('\\ninvalid entry, try again\\n')\n",
    "    elif home_input == '3':\n",
    "        exit_cb()\n",
    "        break\n",
    "    else:\n",
    "        print('\\nnah-ah-ah, you didn\\'t say the magic word!\\n')"
   ]
  },
  {
   "cell_type": "code",
   "execution_count": null,
   "id": "d410d6c1",
   "metadata": {},
   "outputs": [],
   "source": []
  }
 ],
 "metadata": {
  "kernelspec": {
   "display_name": "Python 3 (ipykernel)",
   "language": "python",
   "name": "python3"
  },
  "language_info": {
   "codemirror_mode": {
    "name": "ipython",
    "version": 3
   },
   "file_extension": ".py",
   "mimetype": "text/x-python",
   "name": "python",
   "nbconvert_exporter": "python",
   "pygments_lexer": "ipython3",
   "version": "3.9.13"
  }
 },
 "nbformat": 4,
 "nbformat_minor": 5
}
